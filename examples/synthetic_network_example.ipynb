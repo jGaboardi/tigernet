{
 "cells": [
  {
   "cell_type": "markdown",
   "metadata": {},
   "source": [
    "-------------------------------------------------------------\n",
    "\n",
    "**If any part of this notebook is used in your research, please cite with the reference found in [README.md](https://github.com/jGaboardi/tigernet#citations)**.\n",
    "\n",
    "-------------------------------------------------------------\n",
    "\n",
    "# Example usage: synthetic lattice network\n",
    "\n",
    "\n",
    "### Author: James D. Gaboardi jgaboardi@gmail.com\n",
    "\n",
    "\n",
    "-------------------------------------------------------------"
   ]
  },
  {
   "cell_type": "code",
   "execution_count": 1,
   "metadata": {
    "ExecuteTime": {
     "end_time": "2021-02-14T20:38:55.297252Z",
     "start_time": "2021-02-14T20:38:55.255916Z"
    }
   },
   "outputs": [
    {
     "name": "stdout",
     "output_type": "stream",
     "text": [
      "Last updated: 2021-02-14T15:38:55.275512-05:00\n",
      "\n",
      "Python implementation: CPython\n",
      "Python version       : 3.9.0\n",
      "IPython version      : 7.20.0\n",
      "\n",
      "Compiler    : Clang 11.0.0 \n",
      "OS          : Darwin\n",
      "Release     : 20.3.0\n",
      "Machine     : x86_64\n",
      "Processor   : i386\n",
      "CPU cores   : 8\n",
      "Architecture: 64bit\n",
      "\n"
     ]
    }
   ],
   "source": [
    "%load_ext watermark\n",
    "%watermark"
   ]
  },
  {
   "cell_type": "code",
   "execution_count": 2,
   "metadata": {
    "ExecuteTime": {
     "end_time": "2021-02-14T20:38:56.485646Z",
     "start_time": "2021-02-14T20:38:55.302073Z"
    }
   },
   "outputs": [
    {
     "name": "stdout",
     "output_type": "stream",
     "text": [
      "Watermark: 2.1.0\n",
      "\n",
      "tigernet: 0.2.3\n",
      "json    : 2.0.9\n",
      "\n"
     ]
    }
   ],
   "source": [
    "import tigernet\n",
    "%load_ext autoreload\n",
    "%autoreload 2\n",
    "%matplotlib inline\n",
    "%watermark -w\n",
    "%watermark -iv"
   ]
  },
  {
   "cell_type": "code",
   "execution_count": 3,
   "metadata": {
    "ExecuteTime": {
     "end_time": "2021-02-14T20:38:56.530805Z",
     "start_time": "2021-02-14T20:38:56.492586Z"
    }
   },
   "outputs": [],
   "source": [
    "try:\n",
    "    from IPython.display import set_matplotlib_formats\n",
    "    set_matplotlib_formats(\"retina\")\n",
    "except ImportError:\n",
    "    pass"
   ]
  },
  {
   "cell_type": "markdown",
   "metadata": {},
   "source": [
    "-------------------------------------------------------------"
   ]
  },
  {
   "cell_type": "code",
   "execution_count": 4,
   "metadata": {
    "ExecuteTime": {
     "end_time": "2021-02-14T20:38:56.569564Z",
     "start_time": "2021-02-14T20:38:56.532890Z"
    }
   },
   "outputs": [
    {
     "name": "stdout",
     "output_type": "stream",
     "text": [
      "['Network', 'Observations', '__builtins__', '__cached__', '__doc__', '__file__', '__loader__', '__name__', '__package__', '__path__', '__spec__', '__version__', 'generate_data', 'generate_lattice', 'generate_obs', 'generate_sine_lines', 'get_discard_mtfcc_by_desc', 'get_discard_segms', 'get_mtfcc_types', 'info', 'obs2obs_cost_matrix', 'stats', 'testing_data', 'tigernet', 'utils']\n"
     ]
    }
   ],
   "source": [
    "print(dir(tigernet))"
   ]
  },
  {
   "cell_type": "markdown",
   "metadata": {},
   "source": [
    "## Generate a synthetic lattice"
   ]
  },
  {
   "cell_type": "code",
   "execution_count": 5,
   "metadata": {
    "ExecuteTime": {
     "end_time": "2021-02-14T20:38:56.776138Z",
     "start_time": "2021-02-14T20:38:56.571252Z"
    }
   },
   "outputs": [
    {
     "data": {
      "text/html": [
       "<div>\n",
       "<style scoped>\n",
       "    .dataframe tbody tr th:only-of-type {\n",
       "        vertical-align: middle;\n",
       "    }\n",
       "\n",
       "    .dataframe tbody tr th {\n",
       "        vertical-align: top;\n",
       "    }\n",
       "\n",
       "    .dataframe thead th {\n",
       "        text-align: right;\n",
       "    }\n",
       "</style>\n",
       "<table border=\"1\" class=\"dataframe\">\n",
       "  <thead>\n",
       "    <tr style=\"text-align: right;\">\n",
       "      <th></th>\n",
       "      <th>geometry</th>\n",
       "      <th>SegID</th>\n",
       "      <th>MTFCC</th>\n",
       "    </tr>\n",
       "  </thead>\n",
       "  <tbody>\n",
       "    <tr>\n",
       "      <th>0</th>\n",
       "      <td>LINESTRING (4.50000 0.00000, 4.50000 4.50000)</td>\n",
       "      <td>1</td>\n",
       "      <td>S1400</td>\n",
       "    </tr>\n",
       "    <tr>\n",
       "      <th>1</th>\n",
       "      <td>LINESTRING (4.50000 4.50000, 4.50000 9.00000)</td>\n",
       "      <td>2</td>\n",
       "      <td>S1400</td>\n",
       "    </tr>\n",
       "    <tr>\n",
       "      <th>2</th>\n",
       "      <td>LINESTRING (0.00000 4.50000, 4.50000 4.50000)</td>\n",
       "      <td>3</td>\n",
       "      <td>S1400</td>\n",
       "    </tr>\n",
       "    <tr>\n",
       "      <th>3</th>\n",
       "      <td>LINESTRING (4.50000 4.50000, 9.00000 4.50000)</td>\n",
       "      <td>4</td>\n",
       "      <td>S1400</td>\n",
       "    </tr>\n",
       "  </tbody>\n",
       "</table>\n",
       "</div>"
      ],
      "text/plain": [
       "                                        geometry  SegID  MTFCC\n",
       "0  LINESTRING (4.50000 0.00000, 4.50000 4.50000)      1  S1400\n",
       "1  LINESTRING (4.50000 4.50000, 4.50000 9.00000)      2  S1400\n",
       "2  LINESTRING (0.00000 4.50000, 4.50000 4.50000)      3  S1400\n",
       "3  LINESTRING (4.50000 4.50000, 9.00000 4.50000)      4  S1400"
      ]
     },
     "execution_count": 5,
     "metadata": {},
     "output_type": "execute_result"
    },
    {
     "data": {
      "image/png": "[encoded data removed]",
      "text/plain": [
       "<Figure size 432x288 with 1 Axes>"
      ]
     },
     "metadata": {
      "image/png": {
       "height": 248,
       "width": 245
      },
      "needs_background": "light"
     },
     "output_type": "display_data"
    }
   ],
   "source": [
    "lattice = tigernet.generate_lattice(n_hori_lines=1, n_vert_lines=1)\n",
    "lattice.plot();\n",
    "lattice"
   ]
  },
  {
   "cell_type": "code",
   "execution_count": 6,
   "metadata": {
    "ExecuteTime": {
     "end_time": "2021-02-14T20:38:56.826754Z",
     "start_time": "2021-02-14T20:38:56.780643Z"
    }
   },
   "outputs": [
    {
     "name": "stdout",
     "output_type": "stream",
     "text": [
      "Help on class Network in module tigernet.tigernet:\n",
      "\n",
      "class Network(builtins.object)\n",
      " |  Network(s_data, from_raw=False, sid_name='SegID', nid_name='NodeID', geo_col='geometry', len_col='length', xyid='xyid', tnid='TNID', tnidf='TNIDF', tnidt='TNIDT', attr1=None, attr2=None, mtfcc_types=None, mtfcc_discard=None, discard_segs=None, mtfcc_split=None, mtfcc_intrst=None, mtfcc_ramp=None, mtfcc_serv=None, mtfcc_split_by=None, mtfcc_split_grp=None, skip_restr=False, calc_len=False, record_components=False, record_geom=False, largest_component=False, calc_stats=False, def_graph_elems=False)\n",
      " |  \n",
      " |  Methods defined here:\n",
      " |  \n",
      " |  __init__(self, s_data, from_raw=False, sid_name='SegID', nid_name='NodeID', geo_col='geometry', len_col='length', xyid='xyid', tnid='TNID', tnidf='TNIDF', tnidt='TNIDT', attr1=None, attr2=None, mtfcc_types=None, mtfcc_discard=None, discard_segs=None, mtfcc_split=None, mtfcc_intrst=None, mtfcc_ramp=None, mtfcc_serv=None, mtfcc_split_by=None, mtfcc_split_grp=None, skip_restr=False, calc_len=False, record_components=False, record_geom=False, largest_component=False, calc_stats=False, def_graph_elems=False)\n",
      " |      Parameters\n",
      " |      ----------\n",
      " |      s_data : geopandas.GeoDataFrame\n",
      " |          Segments dataframe.\n",
      " |      from_raw : bool\n",
      " |          Input ``s_data`` is raw TIGER/Line Edge data. Default is ``False``.\n",
      " |      sid_name : str\n",
      " |          Segment column name. Default is ``'SegID'``.\n",
      " |      nid_name : str\n",
      " |          Node column name. Default is ``'NodeID'``.\n",
      " |      geo_col : str\n",
      " |          Geometry column name. Default is ``'geometry'``.\n",
      " |      len_col : str\n",
      " |          Length column name. Default is ``'length'``.\n",
      " |      xyid : str\n",
      " |          Combined x-coord + y-coords string ID. Default is ``'xyid'``.\n",
      " |      tnid : str\n",
      " |          TIGER/Line node ID variable used for working with\n",
      " |          TIGER/Line edges. Default is ``'TNID'``.\n",
      " |      tnidf : str\n",
      " |          TIGER/Line 'From Node' variable used for building topology\n",
      " |          in TIGER/Line edges. Default is ``'TNIDF'``.\n",
      " |      tnidt : str\n",
      " |           TIGER/Line 'To Node' variable used for building topology in\n",
      " |           TIGER/Line edges. Default is ``'TNIDT'``.\n",
      " |      attr1 : str\n",
      " |          Auxillary variable being used. Default is ``None``.\n",
      " |      attr2 : str\n",
      " |          Auxillary variable being used. Either ``'TLID'`` for tiger edges\n",
      " |          or ``'LINEARID'`` for tiger roads. Default is ``None``.\n",
      " |      mtfcc_types : dict\n",
      " |          MTFCC road type descriptions. Default is ``None``.\n",
      " |          from [utils.get_mtfcc_types()]\n",
      " |      mtfcc_discard : list\n",
      " |          MTFCC types (by code) to discard. Default is ``None``.\n",
      " |          from [utils.get_discard_mtfcc_by_desc()]\n",
      " |      discard_segs : list\n",
      " |          specifc segment ids to discard. Default is ``None``.\n",
      " |          from [utils.discard_troublemakers()]\n",
      " |      mtfcc_split : str\n",
      " |          MTFCC codes for segments to weld and then split during the\n",
      " |          line splitting process. Default is ``None``.\n",
      " |      mtfcc_intrst : str\n",
      " |          MTFCC codes for interstates. Default is ``None``.\n",
      " |      mtfcc_ramp : str\n",
      " |          MTFCC codes for on ramps. Default is ``None``.\n",
      " |      mtfcc_serv : str\n",
      " |          MTFCC codes for service drives. Default is ``None``.\n",
      " |      mtfcc_split_by : list\n",
      " |          MTFCC codes to eventually split the segments of\n",
      " |          `mtfcc_no_split` with. Default is ``None``.\n",
      " |      mtfcc_split_grp : str\n",
      " |          After subseting this road type, group by this attribute\n",
      " |          before welding. Default is ``None``.\n",
      " |      skip_restr : bool\n",
      " |          Skip re-welding restricted segments. Default is ``False``.\n",
      " |      calc_len : bool\n",
      " |          Calculate length and add column. Default is ``False``.\n",
      " |      record_components : bool\n",
      " |          Record connected components in graph. This is used for teasing out the\n",
      " |          largest connected component. Default is ``False``.\n",
      " |      record_geom : bool\n",
      " |          Create associated between IDs and shapely geometries.\n",
      " |          Default is ``False``.\n",
      " |      largest_component : bool\n",
      " |          Keep only the largest connected component in the graph. Default is ``False``.\n",
      " |      calc_stats : bool\n",
      " |          Calculate network stats. Default is ``False``.\n",
      " |      def_graph_elems : bool\n",
      " |          Define graph elements. Default is ``False``.\n",
      " |      \n",
      " |      Attributes\n",
      " |      ----------\n",
      " |      segm2xyid : dict\n",
      " |          Segment to xyID lookup.\n",
      " |      node2xyid : dict\n",
      " |          Node to xyID lookup.\n",
      " |      segm2node : dict\n",
      " |          Segment to node lookup.\n",
      " |      node2segm : dict\n",
      " |          Node to segment lookup.\n",
      " |      segm2segm : dict\n",
      " |          Segment to segment lookup.\n",
      " |      node2node : dict\n",
      " |          Node to node lookup.\n",
      " |      segm_cc : dict\n",
      " |          Root segment ID to connected component segment IDs lookup.\n",
      " |      cc_lens : dict\n",
      " |          Root segment ID to connected component length lookup.\n",
      " |      node_cc : dict\n",
      " |          Root node ID to connected component node IDs lookup.\n",
      " |      largest_segm_cc : dict\n",
      " |          Root segment ID to largest connected component segment IDs lookup.\n",
      " |      largest_node_cc : dict\n",
      " |          Root node ID to largest connected component node IDs lookup.\n",
      " |      n_ccs : int\n",
      " |          The number of connected components.\n",
      " |      s_ids : list\n",
      " |          Segment IDs.\n",
      " |      n_ids : list\n",
      " |          Node IDs.\n",
      " |      n_segm : int\n",
      " |          Network segment count.\n",
      " |      n_node : int\n",
      " |          Network node count.\n",
      " |      segm2len : dict\n",
      " |          Segment to segment length lookup.\n",
      " |      network_length : float\n",
      " |          Full network length.\n",
      " |      node2degree : dict\n",
      " |          Node to node degree lookup.\n",
      " |      segm2tlid : dict\n",
      " |          Segment to TIGER/Line ID lookup.\n",
      " |      segm2elem : dict\n",
      " |          Segment to network element lookup.\n",
      " |      node2elem : dict\n",
      " |          Node to network element lookup.\n",
      " |      diameter : float\n",
      " |          The longest shortest path between two nodes in the network.\n",
      " |      radius : float\n",
      " |          The shortest path between two nodes in the network.\n",
      " |      d_net : float\n",
      " |          Cumulative network diameter.\n",
      " |      d_euc : float\n",
      " |          Cumulative euclidean diameter.\n",
      " |      circuity : float\n",
      " |          Network circuity. See ``stats.circuity()``.\n",
      " |      n2n_matrix : numpy.array\n",
      " |          All node-to-node shortest path lengths in the network.\n",
      " |      n2n_paths : dict\n",
      " |          All node-to-node shortest paths in the network.\n",
      " |      max_sinuosity : float\n",
      " |          Maximum segment sinuosity.\n",
      " |      min_sinuosity : float\n",
      " |          Minimum segment sinuosity.\n",
      " |      net_mean_sinuosity : float\n",
      " |          Network segment sinuosity mean.\n",
      " |      net_std_sinuosity : float\n",
      " |          Network segment sinuosity standard deviation.\n",
      " |      max_node_degree : int\n",
      " |          Maximum node degree.\n",
      " |      min_node_degree : int\n",
      " |          Minimum node degree.\n",
      " |      mean_node_degree : float\n",
      " |          Network node degree mean.\n",
      " |      std_node_degree : float\n",
      " |          Network node degree standard deviation.\n",
      " |      alpha : float\n",
      " |          Network alpha measure. See ``stats.connectivity()``.\n",
      " |      beta : float\n",
      " |          Network beta measure. See ``stats.connectivity()``.\n",
      " |      gamma : float\n",
      " |          Network gamma measure. See ``stats.connectivity()``.\n",
      " |      eta : float\n",
      " |          Network eta measure. See ``stats.connectivity()``.\n",
      " |      entropies_{} : dict\n",
      " |          Segment/Node ID to {variable/attribute} entropies.\n",
      " |      network_entropy_{} : float\n",
      " |          Network {variable/attribute} entropy.\n",
      " |      corrected_rings : int\n",
      " |          Number of corrected rings in the network.\n",
      " |      lines_split : int\n",
      " |          Number of split lines in the network.\n",
      " |      welded_mls : int\n",
      " |          Number of welded multilinestrings in the network.\n",
      " |      segm2geom : dict\n",
      " |          Segment to geometry lookup.\n",
      " |      node2geom : dict\n",
      " |          Node to geometry lookup.\n",
      " |      segm2coords : dict\n",
      " |          Segment to endpoint coordinates lookup.\n",
      " |      node2coords : dict\n",
      " |          Node to coordinates lookup.\n",
      " |      \n",
      " |      Examples\n",
      " |      --------\n",
      " |      \n",
      " |      >>> import tigernet\n",
      " |      >>> lat = tigernet.generate_lattice(n_hori_lines=1, n_vert_lines=1)\n",
      " |      >>> net = tigernet.Network(s_data=lat)\n",
      " |      >>> net.s_data[[\"SegID\", \"MTFCC\", \"length\", \"xyid\", \"s_neigh\", \"n_neigh\"]]\n",
      " |         SegID  MTFCC  length                      xyid    s_neigh n_neigh\n",
      " |      0      0  S1400     4.5  ['x4.5y0.0', 'x4.5y4.5']  [1, 2, 3]  [0, 1]\n",
      " |      1      1  S1400     4.5  ['x4.5y4.5', 'x4.5y9.0']  [0, 2, 3]  [1, 2]\n",
      " |      2      2  S1400     4.5  ['x0.0y4.5', 'x4.5y4.5']  [0, 1, 3]  [1, 3]\n",
      " |      3      3  S1400     4.5  ['x4.5y4.5', 'x9.0y4.5']  [0, 1, 2]  [1, 4]\n",
      " |      \n",
      " |      >>> net.n_data[[\"NodeID\", \"xyid\", \"s_neigh\", \"n_neigh\", \"degree\"]]\n",
      " |         NodeID          xyid       s_neigh       n_neigh  degree\n",
      " |      0       0  ['x4.5y0.0']           [0]           [1]       1\n",
      " |      1       1  ['x4.5y4.5']  [0, 1, 2, 3]  [0, 2, 3, 4]       4\n",
      " |      2       2  ['x4.5y9.0']           [1]           [1]       1\n",
      " |      3       3  ['x0.0y4.5']           [2]           [1]       1\n",
      " |      4       4  ['x9.0y4.5']           [3]           [1]       1\n",
      " |      \n",
      " |      >>> net.segm2xyid[0]\n",
      " |      ['x4.5y0.0', 'x4.5y4.5']\n",
      " |      \n",
      " |      >>> net.node2xyid[0]\n",
      " |      ['x4.5y0.0']\n",
      " |      \n",
      " |      >>> net.segm2node[3]\n",
      " |      [1, 4]\n",
      " |      \n",
      " |      >>> net.node2segm[4]\n",
      " |      [3]\n",
      " |      \n",
      " |      >>> net.segm2segm[3]\n",
      " |      [0, 1, 2]\n",
      " |      \n",
      " |      >>> net.node2node[4]\n",
      " |      [1]\n",
      " |  \n",
      " |  build_associations(self, record_geom=False)\n",
      " |      Associate graph elements with geometries, coordinates,\n",
      " |      segment lengths, node degrees, and other information.\n",
      " |      \n",
      " |      Parameters\n",
      " |      ----------\n",
      " |      record_geom : bool\n",
      " |          Create an ID-to-geometry lookup (``True``). Default is ``False``.\n",
      " |  \n",
      " |  build_base(self, s_data)\n",
      " |      Extract nodes from segment endpoints and relate\n",
      " |      segments and nodes to a location ID (``xyid``).\n",
      " |      \n",
      " |      Parameters\n",
      " |      ----------\n",
      " |      s_data : geopandas.GeoDataFrame\n",
      " |          Segments data.\n",
      " |  \n",
      " |  build_components(self, largest_cc=False)\n",
      " |      Find the rooted connected components of the graph (either largest or longest).\n",
      " |      *** Must choose either largest or longest. If both ``largest_cc`` and\n",
      " |      ``longest_cc`` are ``True``, ``largest_cc`` will be selected by default. ***\n",
      " |      \n",
      " |      Parameters\n",
      " |      ----------\n",
      " |      largest_cc : bool\n",
      " |          Keep only the largest connected component (the most\n",
      " |          edges/nodes) in the graph. Default is ``False``.\n",
      " |  \n",
      " |  build_network(self, s_data, record_components=False, record_geom=False, largest_component=False, def_graph_elems=False)\n",
      " |      Top-level method for full network object creation from a\n",
      " |      geopandas.GeoDataFrame of lines.\n",
      " |      \n",
      " |      Parameters\n",
      " |      ----------\n",
      " |      s_data : geopandas.GeoDataFrame\n",
      " |          Segments data.\n",
      " |      record_components : bool\n",
      " |          Find rooted connected components in the network (``True``),\n",
      " |          or ignore (``False``). Default is ``False``.\n",
      " |      largest_component : bool\n",
      " |          Keep only the largest connected compnent of the network\n",
      " |          (``True``), or keep all components (``False``). Default is ``False``.\n",
      " |      record_geom : bool\n",
      " |          Create an id to geometry lookup (``True``), or ignore (``False``).\n",
      " |          Default is ``False``.\n",
      " |      def_graph_elems : bool\n",
      " |          Define each element of the graph as either a branch\n",
      " |          [connected to two or more other elements], or a leaf\n",
      " |          [connected to only one other element] (``True``), or ignore\n",
      " |          (``False``). Default is ``False``.\n",
      " |  \n",
      " |  build_topology(self)\n",
      " |      Relate all graph elements.\n",
      " |  \n",
      " |  calc_entropy(self, ent_col, frame_name)\n",
      " |      Network entropy statistics. For descriptions see ``stats.entropies()``.\n",
      " |      \n",
      " |      Parameters\n",
      " |      ----------\n",
      " |      ent_col : str\n",
      " |          The column name in ``frame_name`` to calculate entropy on.\n",
      " |      frame_name : str\n",
      " |          The name of the network element dataframe.\n",
      " |  \n",
      " |  calc_net_stats(self, conn_stat=None)\n",
      " |      Calculate network analyis descriptive statistics.\n",
      " |      \n",
      " |      Parameters\n",
      " |      ----------\n",
      " |      conn_stat : {None, str}\n",
      " |          Either ``'alpha'``, ``'beta'``, ``'gamma'``, ``'eta'``.\n",
      " |          Set to ``'all'`` toc calculate all available statistics.\n",
      " |          For descriptions see ``stats.connectivity()``.\n",
      " |  \n",
      " |  cost_matrix(self, wpaths=False, asattr=True)\n",
      " |      Network node-to-node cost matrix calculation with options for generating\n",
      " |      shortest paths along tree. For best results the network should be simplified\n",
      " |      prior to running this method.\n",
      " |      \n",
      " |      Parameters\n",
      " |      ----------\n",
      " |      wpaths : bool\n",
      " |          Generate shortest paths tree. Default is ``False``.\n",
      " |      asattr : bool\n",
      " |          Set ``n2n_matrix`` and ``paths`` as attributes of ``Network`` if ``True``,\n",
      " |          otherwise return them. Default is ``True``.\n",
      " |      \n",
      " |      Returns\n",
      " |      -------\n",
      " |      n2n_matrix : numpy.ndarray\n",
      " |          Shortest path costs between all nodes.\n",
      " |      paths : dict\n",
      " |          Graph traveral paths.\n",
      " |  \n",
      " |  define_graph_elements(self)\n",
      " |      Define all segments and nodes as either a leaf (incident with one other\n",
      " |      element) or a branch (incident with more than one other graph element).\n",
      " |  \n",
      " |  nodes_kdtree(self, only_coords=False)\n",
      " |      Build a kdtree from the network node coords for observations lookup.\n",
      " |      \n",
      " |      Parameters\n",
      " |      ----------\n",
      " |      only_coords : bool\n",
      " |          Flag for only coordinated being passed in.\n",
      " |      \n",
      " |      Returns\n",
      " |      -------\n",
      " |      kdtree : scipy.spatial.kdtree.KDTree\n",
      " |          All network nodes lookup.\n",
      " |  \n",
      " |  simplify_network(self, record_components=False, largest_component=False, record_geom=False, def_graph_elems=False, inplace=False)\n",
      " |      Remove all non-articulation points in the network.\n",
      " |      \n",
      " |      Parameters\n",
      " |      ----------\n",
      " |      record_components : bool\n",
      " |          Record connected components in graph. This is used for teasing out the\n",
      " |          largest connected component. Default is ``False``.\n",
      " |      largest_component : bool\n",
      " |          Keep only the largest connected component in the graph. Default is ``False``.\n",
      " |      record_geom : bool\n",
      " |          Create associated between IDs and shapely geometries. Default is ``False``.\n",
      " |      def_graph_elems : bool\n",
      " |          Define graph elements. Default is ``False``.\n",
      " |      inplace : bool\n",
      " |          Overwrite the original network with the simplified. Default is ``False``.\n",
      " |      \n",
      " |      Returns\n",
      " |      -------\n",
      " |      simp_net : geopandas.GeoDataFrame\n",
      " |          The simplified network (if ``inplace`` is set to ``False``).\n",
      " |  \n",
      " |  ----------------------------------------------------------------------\n",
      " |  Data descriptors defined here:\n",
      " |  \n",
      " |  __dict__\n",
      " |      dictionary for instance variables (if defined)\n",
      " |  \n",
      " |  __weakref__\n",
      " |      list of weak references to the object (if defined)\n",
      "\n",
      "None\n"
     ]
    }
   ],
   "source": [
    "print(help(tigernet.Network))"
   ]
  },
  {
   "cell_type": "markdown",
   "metadata": {},
   "source": [
    "-------------------------------------------------------------"
   ]
  },
  {
   "cell_type": "markdown",
   "metadata": {},
   "source": [
    "## Create a network instance & examine its attributes"
   ]
  },
  {
   "cell_type": "code",
   "execution_count": 7,
   "metadata": {
    "ExecuteTime": {
     "end_time": "2021-02-14T20:38:56.922209Z",
     "start_time": "2021-02-14T20:38:56.830525Z"
    }
   },
   "outputs": [
    {
     "name": "stdout",
     "output_type": "stream",
     "text": [
      "['__class__', '__delattr__', '__dict__', '__dir__', '__doc__', '__eq__', '__format__', '__ge__', '__getattribute__', '__gt__', '__hash__', '__init__', '__init_subclass__', '__le__', '__lt__', '__module__', '__ne__', '__new__', '__reduce__', '__reduce_ex__', '__repr__', '__setattr__', '__sizeof__', '__str__', '__subclasshook__', '__weakref__', 'attr1', 'attr2', 'build_associations', 'build_base', 'build_components', 'build_network', 'build_topology', 'calc_entropy', 'calc_net_stats', 'cc_lens', 'cost_matrix', 'define_graph_elements', 'discard_segs', 'from_raw', 'geo_col', 'len_col', 'mtfcc_discard', 'mtfcc_types', 'n_ccs', 'n_data', 'n_ids', 'n_node', 'n_segm', 'network_length', 'nid_name', 'node2coords', 'node2degree', 'node2elem', 'node2geom', 'node2node', 'node2segm', 'node2xyid', 'node_cc', 'nodes_kdtree', 's_data', 's_ids', 'segm2coords', 'segm2elem', 'segm2geom', 'segm2len', 'segm2node', 'segm2segm', 'segm2xyid', 'segm_cc', 'sid_name', 'simplify_network', 'tlid', 'tnid', 'tnidf', 'tnidt', 'xyid']\n"
     ]
    }
   ],
   "source": [
    "network = tigernet.Network(\n",
    "    s_data=lattice,\n",
    "    record_components=True,\n",
    "    record_geom=True,\n",
    "    largest_component=False,\n",
    "    def_graph_elems=True\n",
    ")\n",
    "print(dir(network))"
   ]
  },
  {
   "cell_type": "code",
   "execution_count": 8,
   "metadata": {
    "ExecuteTime": {
     "end_time": "2021-02-14T20:38:56.973693Z",
     "start_time": "2021-02-14T20:38:56.924970Z"
    }
   },
   "outputs": [
    {
     "data": {
      "text/html": [
       "<div>\n",
       "<style scoped>\n",
       "    .dataframe tbody tr th:only-of-type {\n",
       "        vertical-align: middle;\n",
       "    }\n",
       "\n",
       "    .dataframe tbody tr th {\n",
       "        vertical-align: top;\n",
       "    }\n",
       "\n",
       "    .dataframe thead th {\n",
       "        text-align: right;\n",
       "    }\n",
       "</style>\n",
       "<table border=\"1\" class=\"dataframe\">\n",
       "  <thead>\n",
       "    <tr style=\"text-align: right;\">\n",
       "      <th></th>\n",
       "      <th>geometry</th>\n",
       "      <th>SegID</th>\n",
       "      <th>MTFCC</th>\n",
       "      <th>length</th>\n",
       "      <th>xyid</th>\n",
       "      <th>s_neigh</th>\n",
       "      <th>n_neigh</th>\n",
       "      <th>CC</th>\n",
       "      <th>ccLength</th>\n",
       "      <th>graph_elem</th>\n",
       "    </tr>\n",
       "  </thead>\n",
       "  <tbody>\n",
       "    <tr>\n",
       "      <th>0</th>\n",
       "      <td>LINESTRING (4.50000 0.00000, 4.50000 4.50000)</td>\n",
       "      <td>0</td>\n",
       "      <td>S1400</td>\n",
       "      <td>4.5</td>\n",
       "      <td>['x4.5y0.0', 'x4.5y4.5']</td>\n",
       "      <td>[1, 2, 3]</td>\n",
       "      <td>[0, 1]</td>\n",
       "      <td>1</td>\n",
       "      <td>18.0</td>\n",
       "      <td>leaf</td>\n",
       "    </tr>\n",
       "    <tr>\n",
       "      <th>1</th>\n",
       "      <td>LINESTRING (4.50000 4.50000, 4.50000 9.00000)</td>\n",
       "      <td>1</td>\n",
       "      <td>S1400</td>\n",
       "      <td>4.5</td>\n",
       "      <td>['x4.5y4.5', 'x4.5y9.0']</td>\n",
       "      <td>[0, 2, 3]</td>\n",
       "      <td>[1, 2]</td>\n",
       "      <td>1</td>\n",
       "      <td>18.0</td>\n",
       "      <td>leaf</td>\n",
       "    </tr>\n",
       "    <tr>\n",
       "      <th>2</th>\n",
       "      <td>LINESTRING (0.00000 4.50000, 4.50000 4.50000)</td>\n",
       "      <td>2</td>\n",
       "      <td>S1400</td>\n",
       "      <td>4.5</td>\n",
       "      <td>['x0.0y4.5', 'x4.5y4.5']</td>\n",
       "      <td>[0, 1, 3]</td>\n",
       "      <td>[1, 3]</td>\n",
       "      <td>1</td>\n",
       "      <td>18.0</td>\n",
       "      <td>leaf</td>\n",
       "    </tr>\n",
       "    <tr>\n",
       "      <th>3</th>\n",
       "      <td>LINESTRING (4.50000 4.50000, 9.00000 4.50000)</td>\n",
       "      <td>3</td>\n",
       "      <td>S1400</td>\n",
       "      <td>4.5</td>\n",
       "      <td>['x4.5y4.5', 'x9.0y4.5']</td>\n",
       "      <td>[0, 1, 2]</td>\n",
       "      <td>[1, 4]</td>\n",
       "      <td>1</td>\n",
       "      <td>18.0</td>\n",
       "      <td>leaf</td>\n",
       "    </tr>\n",
       "  </tbody>\n",
       "</table>\n",
       "</div>"
      ],
      "text/plain": [
       "                                        geometry  SegID  MTFCC  length  \\\n",
       "0  LINESTRING (4.50000 0.00000, 4.50000 4.50000)      0  S1400     4.5   \n",
       "1  LINESTRING (4.50000 4.50000, 4.50000 9.00000)      1  S1400     4.5   \n",
       "2  LINESTRING (0.00000 4.50000, 4.50000 4.50000)      2  S1400     4.5   \n",
       "3  LINESTRING (4.50000 4.50000, 9.00000 4.50000)      3  S1400     4.5   \n",
       "\n",
       "                       xyid    s_neigh n_neigh  CC  ccLength graph_elem  \n",
       "0  ['x4.5y0.0', 'x4.5y4.5']  [1, 2, 3]  [0, 1]   1      18.0       leaf  \n",
       "1  ['x4.5y4.5', 'x4.5y9.0']  [0, 2, 3]  [1, 2]   1      18.0       leaf  \n",
       "2  ['x0.0y4.5', 'x4.5y4.5']  [0, 1, 3]  [1, 3]   1      18.0       leaf  \n",
       "3  ['x4.5y4.5', 'x9.0y4.5']  [0, 1, 2]  [1, 4]   1      18.0       leaf  "
      ]
     },
     "execution_count": 8,
     "metadata": {},
     "output_type": "execute_result"
    }
   ],
   "source": [
    "network.s_data"
   ]
  },
  {
   "cell_type": "code",
   "execution_count": 9,
   "metadata": {
    "ExecuteTime": {
     "end_time": "2021-02-14T20:38:57.020559Z",
     "start_time": "2021-02-14T20:38:56.975505Z"
    }
   },
   "outputs": [
    {
     "data": {
      "text/html": [
       "<div>\n",
       "<style scoped>\n",
       "    .dataframe tbody tr th:only-of-type {\n",
       "        vertical-align: middle;\n",
       "    }\n",
       "\n",
       "    .dataframe tbody tr th {\n",
       "        vertical-align: top;\n",
       "    }\n",
       "\n",
       "    .dataframe thead th {\n",
       "        text-align: right;\n",
       "    }\n",
       "</style>\n",
       "<table border=\"1\" class=\"dataframe\">\n",
       "  <thead>\n",
       "    <tr style=\"text-align: right;\">\n",
       "      <th></th>\n",
       "      <th>geometry</th>\n",
       "      <th>NodeID</th>\n",
       "      <th>xyid</th>\n",
       "      <th>s_neigh</th>\n",
       "      <th>n_neigh</th>\n",
       "      <th>CC</th>\n",
       "      <th>degree</th>\n",
       "      <th>graph_elem</th>\n",
       "    </tr>\n",
       "  </thead>\n",
       "  <tbody>\n",
       "    <tr>\n",
       "      <th>0</th>\n",
       "      <td>POINT (4.50000 0.00000)</td>\n",
       "      <td>0</td>\n",
       "      <td>['x4.5y0.0']</td>\n",
       "      <td>[0]</td>\n",
       "      <td>[1]</td>\n",
       "      <td>1</td>\n",
       "      <td>1</td>\n",
       "      <td>leaf</td>\n",
       "    </tr>\n",
       "    <tr>\n",
       "      <th>1</th>\n",
       "      <td>POINT (4.50000 4.50000)</td>\n",
       "      <td>1</td>\n",
       "      <td>['x4.5y4.5']</td>\n",
       "      <td>[0, 1, 2, 3]</td>\n",
       "      <td>[0, 2, 3, 4]</td>\n",
       "      <td>1</td>\n",
       "      <td>4</td>\n",
       "      <td>branch</td>\n",
       "    </tr>\n",
       "    <tr>\n",
       "      <th>2</th>\n",
       "      <td>POINT (4.50000 9.00000)</td>\n",
       "      <td>2</td>\n",
       "      <td>['x4.5y9.0']</td>\n",
       "      <td>[1]</td>\n",
       "      <td>[1]</td>\n",
       "      <td>1</td>\n",
       "      <td>1</td>\n",
       "      <td>leaf</td>\n",
       "    </tr>\n",
       "    <tr>\n",
       "      <th>3</th>\n",
       "      <td>POINT (0.00000 4.50000)</td>\n",
       "      <td>3</td>\n",
       "      <td>['x0.0y4.5']</td>\n",
       "      <td>[2]</td>\n",
       "      <td>[1]</td>\n",
       "      <td>1</td>\n",
       "      <td>1</td>\n",
       "      <td>leaf</td>\n",
       "    </tr>\n",
       "    <tr>\n",
       "      <th>4</th>\n",
       "      <td>POINT (9.00000 4.50000)</td>\n",
       "      <td>4</td>\n",
       "      <td>['x9.0y4.5']</td>\n",
       "      <td>[3]</td>\n",
       "      <td>[1]</td>\n",
       "      <td>1</td>\n",
       "      <td>1</td>\n",
       "      <td>leaf</td>\n",
       "    </tr>\n",
       "  </tbody>\n",
       "</table>\n",
       "</div>"
      ],
      "text/plain": [
       "                  geometry  NodeID          xyid       s_neigh       n_neigh  \\\n",
       "0  POINT (4.50000 0.00000)       0  ['x4.5y0.0']           [0]           [1]   \n",
       "1  POINT (4.50000 4.50000)       1  ['x4.5y4.5']  [0, 1, 2, 3]  [0, 2, 3, 4]   \n",
       "2  POINT (4.50000 9.00000)       2  ['x4.5y9.0']           [1]           [1]   \n",
       "3  POINT (0.00000 4.50000)       3  ['x0.0y4.5']           [2]           [1]   \n",
       "4  POINT (9.00000 4.50000)       4  ['x9.0y4.5']           [3]           [1]   \n",
       "\n",
       "   CC  degree graph_elem  \n",
       "0   1       1       leaf  \n",
       "1   1       4     branch  \n",
       "2   1       1       leaf  \n",
       "3   1       1       leaf  \n",
       "4   1       1       leaf  "
      ]
     },
     "execution_count": 9,
     "metadata": {},
     "output_type": "execute_result"
    }
   ],
   "source": [
    "network.n_data"
   ]
  },
  {
   "cell_type": "code",
   "execution_count": 10,
   "metadata": {
    "ExecuteTime": {
     "end_time": "2021-02-14T20:38:57.058394Z",
     "start_time": "2021-02-14T20:38:57.022281Z"
    }
   },
   "outputs": [],
   "source": [
    "skws = {\"color\": \"k\", \"alpha\": .5, \"zorder\": 0}\n",
    "nkws = {\"color\": \"r\", \"markersize\": 90, \"alpha\": .5, \"ec\":\"k\", \"zorder\": 1}"
   ]
  },
  {
   "cell_type": "code",
   "execution_count": 11,
   "metadata": {
    "ExecuteTime": {
     "end_time": "2021-02-14T20:38:57.271838Z",
     "start_time": "2021-02-14T20:38:57.059974Z"
    }
   },
   "outputs": [
    {
     "data": {
      "image/png": "[encoded data removed]",
      "text/plain": [
       "<Figure size 432x432 with 1 Axes>"
      ]
     },
     "metadata": {
      "image/png": {
       "height": 357,
       "width": 353
      },
      "needs_background": "light"
     },
     "output_type": "display_data"
    }
   ],
   "source": [
    "ax = network.s_data.plot(figsize=(6,6), **skws)\n",
    "network.n_data.plot(ax=ax, **nkws);"
   ]
  },
  {
   "cell_type": "markdown",
   "metadata": {},
   "source": [
    "### Network element IDs"
   ]
  },
  {
   "cell_type": "code",
   "execution_count": 12,
   "metadata": {
    "ExecuteTime": {
     "end_time": "2021-02-14T20:38:57.315655Z",
     "start_time": "2021-02-14T20:38:57.274029Z"
    }
   },
   "outputs": [
    {
     "data": {
      "text/plain": [
       "([0, 1, 2, 3], [0, 1, 2, 3, 4])"
      ]
     },
     "execution_count": 12,
     "metadata": {},
     "output_type": "execute_result"
    }
   ],
   "source": [
    "network.s_ids, network.n_ids"
   ]
  },
  {
   "cell_type": "markdown",
   "metadata": {},
   "source": [
    "### Network segment count and length"
   ]
  },
  {
   "cell_type": "code",
   "execution_count": 13,
   "metadata": {
    "ExecuteTime": {
     "end_time": "2021-02-14T20:38:57.356993Z",
     "start_time": "2021-02-14T20:38:57.317139Z"
    }
   },
   "outputs": [
    {
     "data": {
      "text/plain": [
       "(4, 18.0)"
      ]
     },
     "execution_count": 13,
     "metadata": {},
     "output_type": "execute_result"
    }
   ],
   "source": [
    "network.n_segm, network.network_length"
   ]
  },
  {
   "cell_type": "markdown",
   "metadata": {},
   "source": [
    "### Network node count and degrees"
   ]
  },
  {
   "cell_type": "code",
   "execution_count": 14,
   "metadata": {
    "ExecuteTime": {
     "end_time": "2021-02-14T20:38:57.400172Z",
     "start_time": "2021-02-14T20:38:57.358888Z"
    }
   },
   "outputs": [
    {
     "data": {
      "text/plain": [
       "(5, {0: 1, 1: 4, 2: 1, 3: 1, 4: 1})"
      ]
     },
     "execution_count": 14,
     "metadata": {},
     "output_type": "execute_result"
    }
   ],
   "source": [
    "network.n_node, network.node2degree"
   ]
  },
  {
   "cell_type": "markdown",
   "metadata": {},
   "source": [
    "### Network connected components"
   ]
  },
  {
   "cell_type": "code",
   "execution_count": 15,
   "metadata": {
    "ExecuteTime": {
     "end_time": "2021-02-14T20:38:57.437259Z",
     "start_time": "2021-02-14T20:38:57.403140Z"
    }
   },
   "outputs": [
    {
     "data": {
      "text/plain": [
       "(1, {1: [0, 1, 2, 3]}, {1: [0, 1, 2, 3, 4]})"
      ]
     },
     "execution_count": 15,
     "metadata": {},
     "output_type": "execute_result"
    }
   ],
   "source": [
    "network.n_ccs, network.segm_cc, network.node_cc"
   ]
  },
  {
   "cell_type": "markdown",
   "metadata": {},
   "source": [
    "### Network element topology\n",
    "#### x->x"
   ]
  },
  {
   "cell_type": "code",
   "execution_count": 16,
   "metadata": {
    "ExecuteTime": {
     "end_time": "2021-02-14T20:38:57.478304Z",
     "start_time": "2021-02-14T20:38:57.440569Z"
    }
   },
   "outputs": [
    {
     "data": {
      "text/plain": [
       "({0: [1, 2, 3], 1: [0, 2, 3], 2: [0, 1, 3], 3: [0, 1, 2]},\n",
       " {0: [1], 1: [0, 2, 3, 4], 2: [1], 3: [1], 4: [1]})"
      ]
     },
     "execution_count": 16,
     "metadata": {},
     "output_type": "execute_result"
    }
   ],
   "source": [
    "network.segm2segm, network.node2node"
   ]
  },
  {
   "cell_type": "markdown",
   "metadata": {},
   "source": [
    "#### x->y"
   ]
  },
  {
   "cell_type": "code",
   "execution_count": 17,
   "metadata": {
    "ExecuteTime": {
     "end_time": "2021-02-14T20:38:57.520774Z",
     "start_time": "2021-02-14T20:38:57.480383Z"
    }
   },
   "outputs": [
    {
     "data": {
      "text/plain": [
       "({0: [0, 1], 1: [1, 2], 2: [1, 3], 3: [1, 4]},\n",
       " {0: [0], 1: [0, 1, 2, 3], 2: [1], 3: [2], 4: [3]})"
      ]
     },
     "execution_count": 17,
     "metadata": {},
     "output_type": "execute_result"
    }
   ],
   "source": [
    "network.segm2node, network.node2segm"
   ]
  },
  {
   "cell_type": "markdown",
   "metadata": {},
   "source": [
    "### Network element type"
   ]
  },
  {
   "cell_type": "code",
   "execution_count": 18,
   "metadata": {
    "ExecuteTime": {
     "end_time": "2021-02-14T20:38:57.563007Z",
     "start_time": "2021-02-14T20:38:57.522862Z"
    }
   },
   "outputs": [
    {
     "data": {
      "text/plain": [
       "({0: 'leaf', 1: 'leaf', 2: 'leaf', 3: 'leaf'},\n",
       " {0: 'leaf', 1: 'branch', 2: 'leaf', 3: 'leaf', 4: 'leaf'})"
      ]
     },
     "execution_count": 18,
     "metadata": {},
     "output_type": "execute_result"
    }
   ],
   "source": [
    "network.segm2elem, network.node2elem"
   ]
  },
  {
   "cell_type": "markdown",
   "metadata": {},
   "source": [
    "-------------------------------------------------------------\n",
    "\n",
    "## Simply the network (no effect in this case)"
   ]
  },
  {
   "cell_type": "code",
   "execution_count": 19,
   "metadata": {
    "ExecuteTime": {
     "end_time": "2021-02-14T20:38:57.655898Z",
     "start_time": "2021-02-14T20:38:57.565242Z"
    }
   },
   "outputs": [],
   "source": [
    "network.simplify_network(inplace=True)"
   ]
  },
  {
   "cell_type": "markdown",
   "metadata": {},
   "source": [
    "-------------------------------------------------------------\n",
    "\n",
    "## Generate a network cost matrix with shortest path trees"
   ]
  },
  {
   "cell_type": "code",
   "execution_count": 20,
   "metadata": {
    "ExecuteTime": {
     "end_time": "2021-02-14T20:38:57.697042Z",
     "start_time": "2021-02-14T20:38:57.657839Z"
    }
   },
   "outputs": [
    {
     "data": {
      "text/plain": [
       "array([[0. , 4.5, 9. , 9. , 9. ],\n",
       "       [4.5, 0. , 4.5, 4.5, 4.5],\n",
       "       [9. , 4.5, 0. , 9. , 9. ],\n",
       "       [9. , 4.5, 9. , 0. , 9. ],\n",
       "       [9. , 4.5, 9. , 9. , 0. ]])"
      ]
     },
     "execution_count": 20,
     "metadata": {},
     "output_type": "execute_result"
    }
   ],
   "source": [
    "network.cost_matrix(asattr=True, wpaths=True)\n",
    "network.n2n_matrix"
   ]
  },
  {
   "cell_type": "code",
   "execution_count": 21,
   "metadata": {
    "ExecuteTime": {
     "end_time": "2021-02-14T20:38:57.745164Z",
     "start_time": "2021-02-14T20:38:57.704934Z"
    }
   },
   "outputs": [
    {
     "data": {
      "text/plain": [
       "{0: {0: [0], 1: [0], 2: [1, 0], 3: [1, 0], 4: [1, 0]},\n",
       " 1: {0: [1], 1: [1], 2: [1], 3: [1], 4: [1]},\n",
       " 2: {0: [1, 2], 1: [2], 2: [2], 3: [1, 2], 4: [1, 2]},\n",
       " 3: {0: [1, 3], 1: [3], 2: [1, 3], 3: [3], 4: [1, 3]},\n",
       " 4: {0: [1, 4], 1: [4], 2: [1, 4], 3: [1, 4], 4: [4]}}"
      ]
     },
     "execution_count": 21,
     "metadata": {},
     "output_type": "execute_result"
    }
   ],
   "source": [
    "network.n2n_paths"
   ]
  },
  {
   "cell_type": "markdown",
   "metadata": {},
   "source": [
    "-------------------------------------------------------------\n",
    "## Generate synthetic observations"
   ]
  },
  {
   "cell_type": "code",
   "execution_count": 22,
   "metadata": {
    "ExecuteTime": {
     "end_time": "2021-02-14T20:38:57.794715Z",
     "start_time": "2021-02-14T20:38:57.749680Z"
    }
   },
   "outputs": [
    {
     "data": {
      "text/html": [
       "<div>\n",
       "<style scoped>\n",
       "    .dataframe tbody tr th:only-of-type {\n",
       "        vertical-align: middle;\n",
       "    }\n",
       "\n",
       "    .dataframe tbody tr th {\n",
       "        vertical-align: top;\n",
       "    }\n",
       "\n",
       "    .dataframe thead th {\n",
       "        text-align: right;\n",
       "    }\n",
       "</style>\n",
       "<table border=\"1\" class=\"dataframe\">\n",
       "  <thead>\n",
       "    <tr style=\"text-align: right;\">\n",
       "      <th></th>\n",
       "      <th>geometry</th>\n",
       "      <th>obs_id</th>\n",
       "    </tr>\n",
       "  </thead>\n",
       "  <tbody>\n",
       "    <tr>\n",
       "      <th>0</th>\n",
       "      <td>POINT (6.01943 3.15640)</td>\n",
       "      <td>a</td>\n",
       "    </tr>\n",
       "    <tr>\n",
       "      <th>1</th>\n",
       "      <td>POINT (8.03795 2.50232)</td>\n",
       "      <td>b</td>\n",
       "    </tr>\n",
       "    <tr>\n",
       "      <th>2</th>\n",
       "      <td>POINT (0.47238 8.26102)</td>\n",
       "      <td>c</td>\n",
       "    </tr>\n",
       "    <tr>\n",
       "      <th>3</th>\n",
       "      <td>POINT (4.24946 0.05623)</td>\n",
       "      <td>d</td>\n",
       "    </tr>\n",
       "    <tr>\n",
       "      <th>4</th>\n",
       "      <td>POINT (4.39206 7.57014)</td>\n",
       "      <td>e</td>\n",
       "    </tr>\n",
       "  </tbody>\n",
       "</table>\n",
       "</div>"
      ],
      "text/plain": [
       "                  geometry obs_id\n",
       "0  POINT (6.01943 3.15640)      a\n",
       "1  POINT (8.03795 2.50232)      b\n",
       "2  POINT (0.47238 8.26102)      c\n",
       "3  POINT (4.24946 0.05623)      d\n",
       "4  POINT (4.39206 7.57014)      e"
      ]
     },
     "execution_count": 22,
     "metadata": {},
     "output_type": "execute_result"
    }
   ],
   "source": [
    "observations = tigernet.generate_obs(5, network.s_data, seed=404)\n",
    "observations[\"obs_id\"] = [\"a\", \"b\", \"c\", \"d\", \"e\"]\n",
    "observations"
   ]
  },
  {
   "cell_type": "code",
   "execution_count": 23,
   "metadata": {
    "ExecuteTime": {
     "end_time": "2021-02-14T20:38:57.829690Z",
     "start_time": "2021-02-14T20:38:57.798277Z"
    }
   },
   "outputs": [],
   "source": [
    "okws = {\"color\": \"b\", \"markersize\": 60, \"alpha\": .75, \"ec\":\"k\", \"zorder\": 2}"
   ]
  },
  {
   "cell_type": "code",
   "execution_count": 24,
   "metadata": {
    "ExecuteTime": {
     "end_time": "2021-02-14T20:38:58.082614Z",
     "start_time": "2021-02-14T20:38:57.831265Z"
    }
   },
   "outputs": [
    {
     "data": {
      "image/png": "[encoded data removed]",
      "text/plain": [
       "<Figure size 432x432 with 1 Axes>"
      ]
     },
     "metadata": {
      "image/png": {
       "height": 357,
       "width": 353
      },
      "needs_background": "light"
     },
     "output_type": "display_data"
    }
   ],
   "source": [
    "ax = network.s_data.plot(figsize=(6,6), **skws)\n",
    "network.n_data.plot(ax=ax, **nkws)\n",
    "observations.plot(ax=ax, **okws);"
   ]
  },
  {
   "cell_type": "markdown",
   "metadata": {},
   "source": [
    "-------------------------------------------------------------\n",
    "## Associate the observations with the network"
   ]
  },
  {
   "cell_type": "code",
   "execution_count": 25,
   "metadata": {
    "ExecuteTime": {
     "end_time": "2021-02-14T20:38:58.136387Z",
     "start_time": "2021-02-14T20:38:58.085063Z"
    }
   },
   "outputs": [
    {
     "name": "stdout",
     "output_type": "stream",
     "text": [
      "['__class__', '__delattr__', '__dict__', '__dir__', '__doc__', '__eq__', '__format__', '__ge__', '__getattribute__', '__gt__', '__hash__', '__init__', '__init_subclass__', '__le__', '__lt__', '__module__', '__ne__', '__new__', '__reduce__', '__reduce_ex__', '__repr__', '__setattr__', '__sizeof__', '__str__', '__subclasshook__', '__weakref__', 'df', 'df_key', 'df_name', 'geo_col', 'k', 'kd_tree', 'obs2coords', 'obs2segm', 'sid_name', 'snap_to', 'snapped_points', 'tol', 'xyid']\n"
     ]
    }
   ],
   "source": [
    "network_observations = tigernet.Observations(\n",
    "    network,\n",
    "    observations.copy(),\n",
    "    df_name=\"obs1\",\n",
    "    df_key=\"obs_id\",\n",
    ")\n",
    "print(dir(network_observations))"
   ]
  },
  {
   "cell_type": "code",
   "execution_count": 26,
   "metadata": {
    "ExecuteTime": {
     "end_time": "2021-02-14T20:38:58.183623Z",
     "start_time": "2021-02-14T20:38:58.139685Z"
    }
   },
   "outputs": [
    {
     "data": {
      "text/html": [
       "<div>\n",
       "<style scoped>\n",
       "    .dataframe tbody tr th:only-of-type {\n",
       "        vertical-align: middle;\n",
       "    }\n",
       "\n",
       "    .dataframe tbody tr th {\n",
       "        vertical-align: top;\n",
       "    }\n",
       "\n",
       "    .dataframe thead th {\n",
       "        text-align: right;\n",
       "    }\n",
       "</style>\n",
       "<table border=\"1\" class=\"dataframe\">\n",
       "  <thead>\n",
       "    <tr style=\"text-align: right;\">\n",
       "      <th></th>\n",
       "      <th>obs_id</th>\n",
       "      <th>geometry</th>\n",
       "      <th>assoc_segm</th>\n",
       "      <th>dist_a</th>\n",
       "      <th>node_a</th>\n",
       "      <th>dist_b</th>\n",
       "      <th>node_b</th>\n",
       "      <th>dist2line</th>\n",
       "      <th>xyid</th>\n",
       "    </tr>\n",
       "  </thead>\n",
       "  <tbody>\n",
       "    <tr>\n",
       "      <th>0</th>\n",
       "      <td>a</td>\n",
       "      <td>POINT (6.01943 4.50000)</td>\n",
       "      <td>3</td>\n",
       "      <td>1.519426</td>\n",
       "      <td>1</td>\n",
       "      <td>2.980574</td>\n",
       "      <td>4</td>\n",
       "      <td>1.343598</td>\n",
       "      <td>['x6.019425770680618y4.5']</td>\n",
       "    </tr>\n",
       "    <tr>\n",
       "      <th>1</th>\n",
       "      <td>b</td>\n",
       "      <td>POINT (8.03795 4.50000)</td>\n",
       "      <td>3</td>\n",
       "      <td>3.537952</td>\n",
       "      <td>1</td>\n",
       "      <td>0.962048</td>\n",
       "      <td>4</td>\n",
       "      <td>1.997682</td>\n",
       "      <td>['x8.03795164668808y4.5']</td>\n",
       "    </tr>\n",
       "    <tr>\n",
       "      <th>2</th>\n",
       "      <td>c</td>\n",
       "      <td>POINT (0.47238 4.50000)</td>\n",
       "      <td>2</td>\n",
       "      <td>0.472383</td>\n",
       "      <td>3</td>\n",
       "      <td>4.027617</td>\n",
       "      <td>1</td>\n",
       "      <td>3.761022</td>\n",
       "      <td>['x0.472383396581738y4.5']</td>\n",
       "    </tr>\n",
       "    <tr>\n",
       "      <th>3</th>\n",
       "      <td>d</td>\n",
       "      <td>POINT (4.50000 0.05623)</td>\n",
       "      <td>0</td>\n",
       "      <td>0.056225</td>\n",
       "      <td>0</td>\n",
       "      <td>4.443775</td>\n",
       "      <td>1</td>\n",
       "      <td>0.250542</td>\n",
       "      <td>['x4.5y0.05622526079105139']</td>\n",
       "    </tr>\n",
       "    <tr>\n",
       "      <th>4</th>\n",
       "      <td>e</td>\n",
       "      <td>POINT (4.50000 7.57014)</td>\n",
       "      <td>1</td>\n",
       "      <td>3.070140</td>\n",
       "      <td>1</td>\n",
       "      <td>1.429860</td>\n",
       "      <td>2</td>\n",
       "      <td>0.107943</td>\n",
       "      <td>['x4.5y7.5701402617992954']</td>\n",
       "    </tr>\n",
       "  </tbody>\n",
       "</table>\n",
       "</div>"
      ],
      "text/plain": [
       "  obs_id                 geometry  assoc_segm    dist_a  node_a    dist_b  \\\n",
       "0      a  POINT (6.01943 4.50000)           3  1.519426       1  2.980574   \n",
       "1      b  POINT (8.03795 4.50000)           3  3.537952       1  0.962048   \n",
       "2      c  POINT (0.47238 4.50000)           2  0.472383       3  4.027617   \n",
       "3      d  POINT (4.50000 0.05623)           0  0.056225       0  4.443775   \n",
       "4      e  POINT (4.50000 7.57014)           1  3.070140       1  1.429860   \n",
       "\n",
       "   node_b  dist2line                          xyid  \n",
       "0       4   1.343598    ['x6.019425770680618y4.5']  \n",
       "1       4   1.997682     ['x8.03795164668808y4.5']  \n",
       "2       1   3.761022    ['x0.472383396581738y4.5']  \n",
       "3       1   0.250542  ['x4.5y0.05622526079105139']  \n",
       "4       2   0.107943   ['x4.5y7.5701402617992954']  "
      ]
     },
     "execution_count": 26,
     "metadata": {},
     "output_type": "execute_result"
    }
   ],
   "source": [
    "network_observations.snapped_points"
   ]
  },
  {
   "cell_type": "code",
   "execution_count": 27,
   "metadata": {
    "ExecuteTime": {
     "end_time": "2021-02-14T20:38:58.220459Z",
     "start_time": "2021-02-14T20:38:58.185411Z"
    }
   },
   "outputs": [
    {
     "data": {
      "text/plain": [
       "{'a': 3, 'b': 3, 'c': 2, 'd': 0, 'e': 1}"
      ]
     },
     "execution_count": 27,
     "metadata": {},
     "output_type": "execute_result"
    }
   ],
   "source": [
    "network_observations.obs2segm"
   ]
  },
  {
   "cell_type": "code",
   "execution_count": 28,
   "metadata": {
    "ExecuteTime": {
     "end_time": "2021-02-14T20:38:58.256632Z",
     "start_time": "2021-02-14T20:38:58.222316Z"
    }
   },
   "outputs": [],
   "source": [
    "bkws = {\"color\": \"y\", \"markersize\": 30, \"alpha\": .85, \"ec\":\"k\", \"zorder\": 3}"
   ]
  },
  {
   "cell_type": "code",
   "execution_count": 29,
   "metadata": {
    "ExecuteTime": {
     "end_time": "2021-02-14T20:38:58.560821Z",
     "start_time": "2021-02-14T20:38:58.258382Z"
    }
   },
   "outputs": [
    {
     "data": {
      "image/png": "[encoded data removed]",
      "text/plain": [
       "<Figure size 432x432 with 1 Axes>"
      ]
     },
     "metadata": {
      "image/png": {
       "height": 357,
       "width": 353
      },
      "needs_background": "light"
     },
     "output_type": "display_data"
    }
   ],
   "source": [
    "ax = network.s_data.plot(figsize=(6,6), **skws)\n",
    "network.n_data.plot(ax=ax, **nkws)\n",
    "network_observations.df.plot(ax=ax, **okws)\n",
    "network_observations.snapped_points.plot(ax=ax, **bkws);"
   ]
  },
  {
   "cell_type": "markdown",
   "metadata": {},
   "source": [
    "-------------------------------------------------------------\n",
    "## Generate a cost matrix between all observations"
   ]
  },
  {
   "cell_type": "code",
   "execution_count": 30,
   "metadata": {
    "ExecuteTime": {
     "end_time": "2021-02-14T20:38:58.607589Z",
     "start_time": "2021-02-14T20:38:58.562794Z"
    }
   },
   "outputs": [
    {
     "name": "stdout",
     "output_type": "stream",
     "text": [
      "Help on function obs2obs_cost_matrix in module tigernet.tigernet:\n",
      "\n",
      "obs2obs_cost_matrix(origin_observations, network, destination_observations=None, snap_dist=True, distance_type='network')\n",
      "    Calculate a cost matrix from (n) observations to (m) observations.\n",
      "    \n",
      "    Parameters\n",
      "    ----------\n",
      "    origin_observations : tigernet.Observations\n",
      "    network : tigernet.Network\n",
      "    destination_observations : tigernet.Observations\n",
      "        Destination observations. Default is ``None``.\n",
      "    snap_dist : str\n",
      "        Include the distance to observations from the network. Default is ``True``.\n",
      "    distance_type : str\n",
      "        Type of distance cost matrix. Default is ``'network'``.\n",
      "        Option is ``'euclidean'``.\n",
      "    \n",
      "    Returns\n",
      "    -------\n",
      "    n2m_matrix : numpy.ndarray\n",
      "        'nXm' cost matrix.\n",
      "\n",
      "None\n"
     ]
    }
   ],
   "source": [
    "print(help(tigernet.obs2obs_cost_matrix))"
   ]
  },
  {
   "cell_type": "code",
   "execution_count": 31,
   "metadata": {
    "ExecuteTime": {
     "end_time": "2021-02-14T20:38:58.661170Z",
     "start_time": "2021-02-14T20:38:58.610758Z"
    }
   },
   "outputs": [
    {
     "data": {
      "text/plain": [
       "array([[ 0.        ,  5.35980629, 10.65166293,  7.55734019,  6.04110705],\n",
       "       [ 5.35980629,  0.        , 13.3242729 , 10.22995016,  8.71371701],\n",
       "       [10.65166293, 13.3242729 ,  0.        , 12.48295526, 10.96672212],\n",
       "       [ 7.55734019, 10.22995016, 12.48295526,  0.        ,  7.87239938],\n",
       "       [ 6.04110705,  8.71371701, 10.96672212,  7.87239938,  0.        ]])"
      ]
     },
     "execution_count": 31,
     "metadata": {},
     "output_type": "execute_result"
    }
   ],
   "source": [
    "tigernet.obs2obs_cost_matrix(network_observations, network)"
   ]
  },
  {
   "cell_type": "markdown",
   "metadata": {
    "ExecuteTime": {
     "end_time": "2020-11-02T20:20:19.545813Z",
     "start_time": "2020-11-02T20:20:12.812Z"
    }
   },
   "source": [
    "------------------"
   ]
  }
 ],
 "metadata": {
  "kernelspec": {
   "display_name": "Python [conda env:tigernet39]",
   "language": "python",
   "name": "conda-env-tigernet39-py"
  },
  "language_info": {
   "codemirror_mode": {
    "name": "ipython",
    "version": 3
   },
   "file_extension": ".py",
   "mimetype": "text/x-python",
   "name": "python",
   "nbconvert_exporter": "python",
   "pygments_lexer": "ipython3",
   "version": "3.9.0"
  }
 },
 "nbformat": 4,
 "nbformat_minor": 4
}
